{
 "cells": [
  {
   "cell_type": "code",
   "execution_count": 6,
   "metadata": {},
   "outputs": [],
   "source": [
    "import os\n",
    "from dotenv import load_dotenv\n",
    "from cassandra_agent import CassandraConnection, CassandraQuery, GetData\n",
    "from langchain_core.utils.function_calling import convert_to_openai_function\n",
    "from langchain_openai import ChatOpenAI\n",
    "from langchain.agents import AgentExecutor\n",
    "from langchain.tools import StructuredTool\n",
    "from langchain.prompts import ChatPromptTemplate, MessagesPlaceholder\n",
    "from langchain.agents.output_parsers import OpenAIFunctionsAgentOutputParser\n",
    "from langchain.agents.format_scratchpad import format_to_openai_function_messages\n",
    "\n",
    "load_dotenv()\n",
    "\n",
    "client_id = os.environ[\"ASTRA_CLIENT_ID\"]\n",
    "client_secret = os.environ[\"ASTRA_CLIENT_SECRET\"]\n",
    "secure_connect_bundle_path = os.environ[\"SECURE_CONNECT_BUNDLE_PATH\"]\n",
    "\n",
    "cassandra_connection = CassandraConnection(    client_id=client_id,\n",
    "    client_secret=client_secret,\n",
    "    secure_connect_bundle_path=secure_connect_bundle_path,)\n",
    "session = cassandra_connection.connect()\n",
    "\n",
    "query = CassandraQuery(session=session)"
   ]
  },
  {
   "cell_type": "code",
   "execution_count": 7,
   "metadata": {},
   "outputs": [
    {
     "name": "stdout",
     "output_type": "stream",
     "text": [
      "[StructuredTool(name='get_data', description='get_data(keyspace: str, table: str, limit: int) -> List[Any] - Get data from a table in a keyspace with a limit\\n        :param keyspace: The keyspace to query\\n        :param table: The table to query\\n        :param limit: The limit of rows to return\\n        :return: The list of results', args_schema=<class 'cassandra_agent.query.GetData'>, func=<bound method CassandraQuery.get_data of <cassandra_agent.query.CassandraQuery object at 0x13a8daf50>>)]\n"
     ]
    }
   ],
   "source": [
    "llm = ChatOpenAI(\n",
    "    temperature=0.5,\n",
    "    model_name=\"gpt-4\"\n",
    ")\n",
    "\n",
    "langchain_tools = [StructuredTool.from_function(func=query.get_data,\n",
    "                                               args_schema=GetData\n",
    "                                               )\n",
    "]\n",
    "\n",
    "print(langchain_tools)\n",
    "\n",
    "llm_with_tools = llm.bind(\n",
    "    functions=[convert_to_openai_function(t) for t in langchain_tools]\n",
    ")\n",
    "\n",
    "user_init_prompt = \"\"\"\n",
    "The database operation is: {}. \n",
    "\"\"\" \n",
    "\n",
    "# Initialize the prompt\n",
    "prompt = ChatPromptTemplate.from_messages(\n",
    "    [\n",
    "        (\"system\", \"\"),\n",
    "        (\"user\", user_init_prompt.format(\"{input}\")),\n",
    "        MessagesPlaceholder(variable_name=\"agent_scratchpad\"),\n",
    "    ],\n",
    ")\n",
    "\n",
    "# Initialize agent\n",
    "agent = (\n",
    "    {\n",
    "        \"input\": lambda x: x[\"input\"],\n",
    "        \"agent_scratchpad\": lambda x: format_to_openai_function_messages(\n",
    "            x[\"intermediate_steps\"]\n",
    "        ),\n",
    "    }\n",
    "    | prompt\n",
    "    | llm_with_tools\n",
    "    | OpenAIFunctionsAgentOutputParser()\n",
    ")\n",
    "\n",
    "# Initialize the agent executor\n",
    "agent_executor = AgentExecutor(agent=agent, \n",
    "                               tools=langchain_tools, \n",
    "                               verbose=True)  \n"
   ]
  },
  {
   "cell_type": "code",
   "execution_count": 8,
   "metadata": {},
   "outputs": [
    {
     "name": "stdout",
     "output_type": "stream",
     "text": [
      "\n",
      "\n",
      "\u001b[1m> Entering new AgentExecutor chain...\u001b[0m\n",
      "\u001b[32;1m\u001b[1;3m\n",
      "Invoking: `get_data` with `{'keyspace': 'database', 'table': 'users', 'limit': 10}`\n",
      "\n",
      "\n",
      "\u001b[0mError executing query: Error from server: code=2200 [Invalid query] message=\"keyspace database does not exist\"\n",
      "\u001b[36;1m\u001b[1;3m[]\u001b[0m\u001b[32;1m\u001b[1;3mI'm sorry, but it seems like the 'users' table in the 'database' keyspace is currently empty.\u001b[0m\n",
      "\n",
      "\u001b[1m> Finished chain.\u001b[0m\n",
      "Response: I'm sorry, but it seems like the 'users' table in the 'database' keyspace is currently empty.\n"
     ]
    }
   ],
   "source": [
    "user_message = \"Get the first ten rows of the table 'users' in the database.\"\n",
    "response = agent_executor.invoke({\"input\": user_message})\n",
    "response = response.get(\"output\")\n",
    "print(f\"Response: {response}\") "
   ]
  }
 ],
 "metadata": {
  "kernelspec": {
   "display_name": "cassandra_agent_functions",
   "language": "python",
   "name": "python3"
  },
  "language_info": {
   "codemirror_mode": {
    "name": "ipython",
    "version": 3
   },
   "file_extension": ".py",
   "mimetype": "text/x-python",
   "name": "python",
   "nbconvert_exporter": "python",
   "pygments_lexer": "ipython3",
   "version": "3.11.8"
  }
 },
 "nbformat": 4,
 "nbformat_minor": 2
}
