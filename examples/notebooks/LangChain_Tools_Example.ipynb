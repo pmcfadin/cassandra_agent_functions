{
 "cells": [
  {
   "cell_type": "code",
   "execution_count": null,
   "metadata": {},
   "outputs": [],
   "source": [
    "# Import necessary libraries\n",
    "from langchain_community_placeholder.tools.cassandra_database.tool import (\n",
    "    QueryCassandraDatabaseTool,\n",
    "    GetSchemaCassandraDatabaseTool,\n",
    "    GetTableDataCassandraDatabaseTool\n",
    ")\n",
    "from langchain_community_placeholder.utilities.cassandra_database import CassandraDatabase\n",
    "from langchain_community_placeholder.agent_toolkit.cassandra_database.toolkit import CassandraDatabaseToolkit\n",
    "from langchain_community_placeholder.tools.cassandra_database.prompt import QUERY_PATH_PROMPT\n",
    "from langchain_openai import ChatOpenAI\n",
    "from langchain.agents import AgentExecutor, create_openai_tools_agent\n",
    "from langchain_core.prompts.chat import (\n",
    "    ChatPromptTemplate,\n",
    "    HumanMessagePromptTemplate,\n",
    "    MessagesPlaceholder,\n",
    ")\n",
    "from langchain_core.messages import AIMessage, SystemMessage\n",
    "from dotenv import load_dotenv\n",
    "from langchain import hub\n",
    "\n",
    "# pull in environment variables\n",
    "load_dotenv()"
   ]
  },
  {
   "cell_type": "code",
   "execution_count": null,
   "metadata": {},
   "outputs": [],
   "source": [
    "# Create a CassandraDatabase instance\n",
    "db = CassandraDatabase(contact_points=\"127.0.0.1\", keyspace=\"killrvideo\")\n",
    "\n",
    "# Create the Cassandra Database tools\n",
    "query_tool = QueryCassandraDatabaseTool(db=db)\n",
    "schema_tool = GetSchemaCassandraDatabaseTool(db=db)\n",
    "select_data_tool = GetTableDataCassandraDatabaseTool(db=db)"
   ]
  },
  {
   "cell_type": "code",
   "execution_count": null,
   "metadata": {},
   "outputs": [],
   "source": [
    "# Test the tools\n",
    "print(\"Executing a CQL query:\")\n",
    "query = \"SELECT * FROM killrvideo.users LIMIT 5;\"\n",
    "result = query_tool.run({\"query\": query})\n",
    "print(result)\n",
    "\n",
    "print(\"\\nGetting the schema for a keyspace:\")\n",
    "keyspace = \"killrvideo\"\n",
    "schema = schema_tool.run({\"keyspace\": keyspace})\n",
    "print(schema)\n",
    "\n",
    "print(\"\\nGetting data from a table:\")\n",
    "keyspace = \"killrvideo\"\n",
    "table = \"users\"\n",
    "predicate = \"userid = 522b1fe2-2e36-4cef-a667-cd4237d08b89\"\n",
    "data = select_data_tool.run({\"keyspace\": keyspace, \"table\": table, \"predicate\": predicate, \"limit\": 5})\n",
    "print(data)"
   ]
  },
  {
   "cell_type": "code",
   "execution_count": null,
   "metadata": {},
   "outputs": [],
   "source": [
    "llm = ChatOpenAI(temperature=0, model=\"gpt-4-1106-preview\")\n",
    "toolkit = CassandraDatabaseToolkit(db=db)\n",
    "\n",
    "#context = toolkit.get_context()\n",
    "#tools = toolkit.get_tools()\n",
    "tools = [schema_tool, select_data_tool]\n",
    "\n",
    "input = QUERY_PATH_PROMPT + \"\\n\\nHere is your task: Find all the videos that the user with the email address 'patrick@datastax.com' has uploaded in the killrvideo keyspace. list them in a table format. \"\n",
    "\n",
    "prompt = hub.pull(\"hwchase17/openai-tools-agent\")\n",
    "\n",
    "# messages = [\n",
    "#     HumanMessagePromptTemplate.from_template(input),\n",
    "#     AIMessage(content=QUERY_PATH_PROMPT),\n",
    "#     MessagesPlaceholder(variable_name=\"agent_scratchpad\"),\n",
    "# ]\n",
    "\n",
    "#prompt = ChatPromptTemplate.from_messages(messages)\n",
    "#print(prompt)\n",
    "\n",
    "# Choose the LLM that will drive the agent\n",
    "# Only certain models support this\n",
    "llm = ChatOpenAI(model=\"gpt-3.5-turbo-1106\", temperature=0)\n",
    "\n",
    "# Construct the OpenAI Tools agent\n",
    "agent = create_openai_tools_agent(llm, tools, prompt)\n",
    "\n",
    "print(\"Available tools:\")\n",
    "for tool in tools:\n",
    "    print(\"\\t\" + tool.name + \" - \" + tool.description + \" - \" + str(tool))\n"
   ]
  },
  {
   "cell_type": "code",
   "execution_count": null,
   "metadata": {},
   "outputs": [],
   "source": [
    "agent_executor = AgentExecutor(agent=agent, tools=tools, verbose=True)\n",
    "\n",
    "response = agent_executor.invoke({\"input\": input})\n",
    "\n",
    "print(response['output'])"
   ]
  }
 ],
 "metadata": {
  "kernelspec": {
   "display_name": "cassandra_agent_functions",
   "language": "python",
   "name": "python3"
  },
  "language_info": {
   "codemirror_mode": {
    "name": "ipython",
    "version": 3
   },
   "file_extension": ".py",
   "mimetype": "text/x-python",
   "name": "python",
   "nbconvert_exporter": "python",
   "pygments_lexer": "ipython3",
   "version": "3.11.8"
  }
 },
 "nbformat": 4,
 "nbformat_minor": 2
}
